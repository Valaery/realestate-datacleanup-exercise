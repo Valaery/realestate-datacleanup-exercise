{
 "cells": [
  {
   "attachments": {},
   "cell_type": "markdown",
   "id": "innocent-university",
   "metadata": {},
   "source": [
    "# Real Estate Clean up\n",
    "\n",
    "This is a real dataset and it was downloaded using web scraping techniques. The data contains registers from fotocasa which is one of the most popular websites of real estate in Spain. Please, do not do this (web scraping) unless it is for academic purposes.\n",
    "\n",
    "The dataset was downloaded a few years ago by Henry Navarro and In no case were economic returns obtained from it.\n",
    "\n",
    "It contains thousands of data from real houses published on the web www.fotocasa.com. Your goal is to extract as much information as possible with the knowledge you have so far about data science, for example what is the most expensive house in the entire dataset?\n",
    "\n",
    "Let's start with precisely that question... Good luck!"
   ]
  },
  {
   "attachments": {},
   "cell_type": "markdown",
   "id": "multiple-glass",
   "metadata": {},
   "source": [
    "#### Exercise 00. Read the dataset assets/real_estate.csv and try to visualize the table (★☆☆)"
   ]
  },
  {
   "cell_type": "code",
   "execution_count": 2,
   "id": "frank-heath",
   "metadata": {
    "metadata": {}
   },
   "outputs": [
    {
     "name": "stdout",
     "output_type": "stream",
     "text": [
      "['Unnamed: 0', 'id_realEstates', 'isNew', 'realEstate_name', 'phone_realEstate', 'url_inmueble', 'rooms', 'bathrooms', 'surface', 'price', 'date', 'description', 'address', 'country', 'level1', 'level2', 'level3', 'level4', 'level5', 'level6', 'level7', 'level8', 'upperLevel', 'countryId', 'level1Id', 'level2Id', 'level3Id', 'level4Id', 'level5Id', 'level6Id', 'level7Id', 'level8Id', 'accuracy', 'latitude', 'longitude', 'zipCode', 'customZone']\n"
     ]
    },
    {
     "data": {
      "text/html": [
       "<div>\n",
       "<style scoped>\n",
       "    .dataframe tbody tr th:only-of-type {\n",
       "        vertical-align: middle;\n",
       "    }\n",
       "\n",
       "    .dataframe tbody tr th {\n",
       "        vertical-align: top;\n",
       "    }\n",
       "\n",
       "    .dataframe thead th {\n",
       "        text-align: right;\n",
       "    }\n",
       "</style>\n",
       "<table border=\"1\" class=\"dataframe\">\n",
       "  <thead>\n",
       "    <tr style=\"text-align: right;\">\n",
       "      <th></th>\n",
       "      <th>Unnamed: 0</th>\n",
       "      <th>id_realEstates</th>\n",
       "      <th>isNew</th>\n",
       "      <th>realEstate_name</th>\n",
       "      <th>phone_realEstate</th>\n",
       "      <th>url_inmueble</th>\n",
       "      <th>rooms</th>\n",
       "      <th>bathrooms</th>\n",
       "      <th>surface</th>\n",
       "      <th>price</th>\n",
       "      <th>...</th>\n",
       "      <th>level4Id</th>\n",
       "      <th>level5Id</th>\n",
       "      <th>level6Id</th>\n",
       "      <th>level7Id</th>\n",
       "      <th>level8Id</th>\n",
       "      <th>accuracy</th>\n",
       "      <th>latitude</th>\n",
       "      <th>longitude</th>\n",
       "      <th>zipCode</th>\n",
       "      <th>customZone</th>\n",
       "    </tr>\n",
       "  </thead>\n",
       "  <tbody>\n",
       "    <tr>\n",
       "      <th>0</th>\n",
       "      <td>1</td>\n",
       "      <td>153771986</td>\n",
       "      <td>False</td>\n",
       "      <td>ferrari 57 inmobiliaria</td>\n",
       "      <td>912177526.0</td>\n",
       "      <td>https://www.fotocasa.es/es/comprar/vivienda/ma...</td>\n",
       "      <td>3.0</td>\n",
       "      <td>2.0</td>\n",
       "      <td>103.0</td>\n",
       "      <td>195000</td>\n",
       "      <td>...</td>\n",
       "      <td>0</td>\n",
       "      <td>0</td>\n",
       "      <td>0</td>\n",
       "      <td>0</td>\n",
       "      <td>0</td>\n",
       "      <td>0</td>\n",
       "      <td>40,2948276786438</td>\n",
       "      <td>-3,44402412135624</td>\n",
       "      <td>NaN</td>\n",
       "      <td>NaN</td>\n",
       "    </tr>\n",
       "    <tr>\n",
       "      <th>1</th>\n",
       "      <td>2</td>\n",
       "      <td>153867863</td>\n",
       "      <td>False</td>\n",
       "      <td>tecnocasa fuenlabrada ferrocarril</td>\n",
       "      <td>916358736.0</td>\n",
       "      <td>https://www.fotocasa.es/es/comprar/vivienda/ma...</td>\n",
       "      <td>3.0</td>\n",
       "      <td>1.0</td>\n",
       "      <td>NaN</td>\n",
       "      <td>89000</td>\n",
       "      <td>...</td>\n",
       "      <td>0</td>\n",
       "      <td>0</td>\n",
       "      <td>0</td>\n",
       "      <td>0</td>\n",
       "      <td>0</td>\n",
       "      <td>1</td>\n",
       "      <td>40,28674</td>\n",
       "      <td>-3,79351</td>\n",
       "      <td>NaN</td>\n",
       "      <td>NaN</td>\n",
       "    </tr>\n",
       "    <tr>\n",
       "      <th>2</th>\n",
       "      <td>3</td>\n",
       "      <td>153430440</td>\n",
       "      <td>False</td>\n",
       "      <td>look find boadilla</td>\n",
       "      <td>916350408.0</td>\n",
       "      <td>https://www.fotocasa.es/es/comprar/vivienda/ma...</td>\n",
       "      <td>2.0</td>\n",
       "      <td>2.0</td>\n",
       "      <td>99.0</td>\n",
       "      <td>390000</td>\n",
       "      <td>...</td>\n",
       "      <td>0</td>\n",
       "      <td>0</td>\n",
       "      <td>0</td>\n",
       "      <td>0</td>\n",
       "      <td>0</td>\n",
       "      <td>0</td>\n",
       "      <td>40,4115646786438</td>\n",
       "      <td>-3,90662252135624</td>\n",
       "      <td>NaN</td>\n",
       "      <td>NaN</td>\n",
       "    </tr>\n",
       "    <tr>\n",
       "      <th>3</th>\n",
       "      <td>4</td>\n",
       "      <td>152776331</td>\n",
       "      <td>False</td>\n",
       "      <td>tecnocasa fuenlabrada ferrocarril</td>\n",
       "      <td>916358736.0</td>\n",
       "      <td>https://www.fotocasa.es/es/comprar/vivienda/ma...</td>\n",
       "      <td>3.0</td>\n",
       "      <td>1.0</td>\n",
       "      <td>86.0</td>\n",
       "      <td>89000</td>\n",
       "      <td>...</td>\n",
       "      <td>0</td>\n",
       "      <td>0</td>\n",
       "      <td>0</td>\n",
       "      <td>0</td>\n",
       "      <td>0</td>\n",
       "      <td>0</td>\n",
       "      <td>40,2853785786438</td>\n",
       "      <td>-3,79508142135624</td>\n",
       "      <td>NaN</td>\n",
       "      <td>NaN</td>\n",
       "    </tr>\n",
       "    <tr>\n",
       "      <th>4</th>\n",
       "      <td>5</td>\n",
       "      <td>153180188</td>\n",
       "      <td>False</td>\n",
       "      <td>ferrari 57 inmobiliaria</td>\n",
       "      <td>912177526.0</td>\n",
       "      <td>https://www.fotocasa.es/es/comprar/vivienda/ma...</td>\n",
       "      <td>2.0</td>\n",
       "      <td>2.0</td>\n",
       "      <td>106.0</td>\n",
       "      <td>172000</td>\n",
       "      <td>...</td>\n",
       "      <td>0</td>\n",
       "      <td>0</td>\n",
       "      <td>0</td>\n",
       "      <td>0</td>\n",
       "      <td>0</td>\n",
       "      <td>0</td>\n",
       "      <td>40,2998774864376</td>\n",
       "      <td>-3,45226301356237</td>\n",
       "      <td>NaN</td>\n",
       "      <td>NaN</td>\n",
       "    </tr>\n",
       "    <tr>\n",
       "      <th>...</th>\n",
       "      <td>...</td>\n",
       "      <td>...</td>\n",
       "      <td>...</td>\n",
       "      <td>...</td>\n",
       "      <td>...</td>\n",
       "      <td>...</td>\n",
       "      <td>...</td>\n",
       "      <td>...</td>\n",
       "      <td>...</td>\n",
       "      <td>...</td>\n",
       "      <td>...</td>\n",
       "      <td>...</td>\n",
       "      <td>...</td>\n",
       "      <td>...</td>\n",
       "      <td>...</td>\n",
       "      <td>...</td>\n",
       "      <td>...</td>\n",
       "      <td>...</td>\n",
       "      <td>...</td>\n",
       "      <td>...</td>\n",
       "      <td>...</td>\n",
       "    </tr>\n",
       "    <tr>\n",
       "      <th>15330</th>\n",
       "      <td>15331</td>\n",
       "      <td>153901377</td>\n",
       "      <td>False</td>\n",
       "      <td>infocasa consulting</td>\n",
       "      <td>911360461.0</td>\n",
       "      <td>https://www.fotocasa.es/es/comprar/vivienda/ma...</td>\n",
       "      <td>2.0</td>\n",
       "      <td>1.0</td>\n",
       "      <td>96.0</td>\n",
       "      <td>259470</td>\n",
       "      <td>...</td>\n",
       "      <td>0</td>\n",
       "      <td>0</td>\n",
       "      <td>0</td>\n",
       "      <td>0</td>\n",
       "      <td>0</td>\n",
       "      <td>0</td>\n",
       "      <td>40,45416</td>\n",
       "      <td>-3,70286</td>\n",
       "      <td>NaN</td>\n",
       "      <td>NaN</td>\n",
       "    </tr>\n",
       "    <tr>\n",
       "      <th>15331</th>\n",
       "      <td>15332</td>\n",
       "      <td>150394373</td>\n",
       "      <td>False</td>\n",
       "      <td>inmobiliaria pulpon</td>\n",
       "      <td>912788039.0</td>\n",
       "      <td>https://www.fotocasa.es/es/comprar/vivienda/ma...</td>\n",
       "      <td>3.0</td>\n",
       "      <td>1.0</td>\n",
       "      <td>150.0</td>\n",
       "      <td>165000</td>\n",
       "      <td>...</td>\n",
       "      <td>0</td>\n",
       "      <td>0</td>\n",
       "      <td>0</td>\n",
       "      <td>0</td>\n",
       "      <td>0</td>\n",
       "      <td>0</td>\n",
       "      <td>40,36652</td>\n",
       "      <td>-3,48951</td>\n",
       "      <td>NaN</td>\n",
       "      <td>NaN</td>\n",
       "    </tr>\n",
       "    <tr>\n",
       "      <th>15332</th>\n",
       "      <td>15333</td>\n",
       "      <td>153901397</td>\n",
       "      <td>False</td>\n",
       "      <td>tecnocasa torrelodones</td>\n",
       "      <td>912780348.0</td>\n",
       "      <td>https://www.fotocasa.es/es/comprar/vivienda/ma...</td>\n",
       "      <td>4.0</td>\n",
       "      <td>2.0</td>\n",
       "      <td>175.0</td>\n",
       "      <td>495000</td>\n",
       "      <td>...</td>\n",
       "      <td>0</td>\n",
       "      <td>0</td>\n",
       "      <td>0</td>\n",
       "      <td>0</td>\n",
       "      <td>0</td>\n",
       "      <td>0</td>\n",
       "      <td>40,57444</td>\n",
       "      <td>-3,92124</td>\n",
       "      <td>NaN</td>\n",
       "      <td>NaN</td>\n",
       "    </tr>\n",
       "    <tr>\n",
       "      <th>15333</th>\n",
       "      <td>15334</td>\n",
       "      <td>152607440</td>\n",
       "      <td>False</td>\n",
       "      <td>inmobiliaria pulpon</td>\n",
       "      <td>912788039.0</td>\n",
       "      <td>https://www.fotocasa.es/es/comprar/vivienda/ma...</td>\n",
       "      <td>3.0</td>\n",
       "      <td>2.0</td>\n",
       "      <td>101.0</td>\n",
       "      <td>195000</td>\n",
       "      <td>...</td>\n",
       "      <td>0</td>\n",
       "      <td>0</td>\n",
       "      <td>0</td>\n",
       "      <td>0</td>\n",
       "      <td>0</td>\n",
       "      <td>0</td>\n",
       "      <td>40,36967</td>\n",
       "      <td>-3,48105</td>\n",
       "      <td>NaN</td>\n",
       "      <td>NaN</td>\n",
       "    </tr>\n",
       "    <tr>\n",
       "      <th>15334</th>\n",
       "      <td>15335</td>\n",
       "      <td>153901356</td>\n",
       "      <td>False</td>\n",
       "      <td>infocasa consulting</td>\n",
       "      <td>911360461.0</td>\n",
       "      <td>https://www.fotocasa.es/es/comprar/vivienda/ma...</td>\n",
       "      <td>3.0</td>\n",
       "      <td>2.0</td>\n",
       "      <td>152.0</td>\n",
       "      <td>765000</td>\n",
       "      <td>...</td>\n",
       "      <td>0</td>\n",
       "      <td>0</td>\n",
       "      <td>0</td>\n",
       "      <td>0</td>\n",
       "      <td>0</td>\n",
       "      <td>0</td>\n",
       "      <td>40,45773</td>\n",
       "      <td>-3,69068</td>\n",
       "      <td>NaN</td>\n",
       "      <td>NaN</td>\n",
       "    </tr>\n",
       "  </tbody>\n",
       "</table>\n",
       "<p>15335 rows × 37 columns</p>\n",
       "</div>"
      ],
      "text/plain": [
       "       Unnamed: 0  id_realEstates  isNew                    realEstate_name  \\\n",
       "0               1       153771986  False            ferrari 57 inmobiliaria   \n",
       "1               2       153867863  False  tecnocasa fuenlabrada ferrocarril   \n",
       "2               3       153430440  False                 look find boadilla   \n",
       "3               4       152776331  False  tecnocasa fuenlabrada ferrocarril   \n",
       "4               5       153180188  False            ferrari 57 inmobiliaria   \n",
       "...           ...             ...    ...                                ...   \n",
       "15330       15331       153901377  False                infocasa consulting   \n",
       "15331       15332       150394373  False                inmobiliaria pulpon   \n",
       "15332       15333       153901397  False             tecnocasa torrelodones   \n",
       "15333       15334       152607440  False                inmobiliaria pulpon   \n",
       "15334       15335       153901356  False                infocasa consulting   \n",
       "\n",
       "       phone_realEstate                                       url_inmueble  \\\n",
       "0           912177526.0  https://www.fotocasa.es/es/comprar/vivienda/ma...   \n",
       "1           916358736.0  https://www.fotocasa.es/es/comprar/vivienda/ma...   \n",
       "2           916350408.0  https://www.fotocasa.es/es/comprar/vivienda/ma...   \n",
       "3           916358736.0  https://www.fotocasa.es/es/comprar/vivienda/ma...   \n",
       "4           912177526.0  https://www.fotocasa.es/es/comprar/vivienda/ma...   \n",
       "...                 ...                                                ...   \n",
       "15330       911360461.0  https://www.fotocasa.es/es/comprar/vivienda/ma...   \n",
       "15331       912788039.0  https://www.fotocasa.es/es/comprar/vivienda/ma...   \n",
       "15332       912780348.0  https://www.fotocasa.es/es/comprar/vivienda/ma...   \n",
       "15333       912788039.0  https://www.fotocasa.es/es/comprar/vivienda/ma...   \n",
       "15334       911360461.0  https://www.fotocasa.es/es/comprar/vivienda/ma...   \n",
       "\n",
       "       rooms  bathrooms  surface   price  ... level4Id level5Id level6Id  \\\n",
       "0        3.0        2.0    103.0  195000  ...        0        0        0   \n",
       "1        3.0        1.0      NaN   89000  ...        0        0        0   \n",
       "2        2.0        2.0     99.0  390000  ...        0        0        0   \n",
       "3        3.0        1.0     86.0   89000  ...        0        0        0   \n",
       "4        2.0        2.0    106.0  172000  ...        0        0        0   \n",
       "...      ...        ...      ...     ...  ...      ...      ...      ...   \n",
       "15330    2.0        1.0     96.0  259470  ...        0        0        0   \n",
       "15331    3.0        1.0    150.0  165000  ...        0        0        0   \n",
       "15332    4.0        2.0    175.0  495000  ...        0        0        0   \n",
       "15333    3.0        2.0    101.0  195000  ...        0        0        0   \n",
       "15334    3.0        2.0    152.0  765000  ...        0        0        0   \n",
       "\n",
       "      level7Id level8Id accuracy          latitude          longitude zipCode  \\\n",
       "0            0        0        0  40,2948276786438  -3,44402412135624     NaN   \n",
       "1            0        0        1          40,28674           -3,79351     NaN   \n",
       "2            0        0        0  40,4115646786438  -3,90662252135624     NaN   \n",
       "3            0        0        0  40,2853785786438  -3,79508142135624     NaN   \n",
       "4            0        0        0  40,2998774864376  -3,45226301356237     NaN   \n",
       "...        ...      ...      ...               ...                ...     ...   \n",
       "15330        0        0        0          40,45416           -3,70286     NaN   \n",
       "15331        0        0        0          40,36652           -3,48951     NaN   \n",
       "15332        0        0        0          40,57444           -3,92124     NaN   \n",
       "15333        0        0        0          40,36967           -3,48105     NaN   \n",
       "15334        0        0        0          40,45773           -3,69068     NaN   \n",
       "\n",
       "      customZone  \n",
       "0            NaN  \n",
       "1            NaN  \n",
       "2            NaN  \n",
       "3            NaN  \n",
       "4            NaN  \n",
       "...          ...  \n",
       "15330        NaN  \n",
       "15331        NaN  \n",
       "15332        NaN  \n",
       "15333        NaN  \n",
       "15334        NaN  \n",
       "\n",
       "[15335 rows x 37 columns]"
      ]
     },
     "execution_count": 2,
     "metadata": {},
     "output_type": "execute_result"
    }
   ],
   "source": [
    "import pandas as pd\n",
    "\n",
    "# this CSV file contains semicolons instead of comas as separator\n",
    "ds = pd.read_csv('assets/real_estate.csv', sep=';')\n",
    "\n",
    "column_name = ds.columns.tolist()\n",
    "print(column_name)\n",
    "\n",
    "ds"
   ]
  },
  {
   "attachments": {},
   "cell_type": "markdown",
   "id": "latin-guest",
   "metadata": {},
   "source": [
    "#### Exercise 01. Which is the most expensive house in the dataset? (★☆☆)\n",
    "\n",
    "Print the address and the price of the selected house. For example:\n",
    "\n",
    "`The house with address General Street Nº5 is the most expensive and its price is 5000000 USD`"
   ]
  },
  {
   "cell_type": "code",
   "execution_count": 3,
   "id": "developing-optimum",
   "metadata": {
    "metadata": {}
   },
   "outputs": [
    {
     "name": "stdout",
     "output_type": "stream",
     "text": [
      "The house with address El Escorial is the most expensive and its price is 8500000 USD\n"
     ]
    }
   ],
   "source": [
    "ds_sorted = ds.sort_values(by='price', ascending=False)\n",
    "most_expensive_address = ds_sorted.iloc[0]['address']\n",
    "most_expensive_price = ds_sorted.iloc[0]['price']\n",
    "print(f\"The house with address {most_expensive_address} is the most expensive and its price is {most_expensive_price} USD\")\n"
   ]
  },
  {
   "attachments": {},
   "cell_type": "markdown",
   "id": "lesser-cosmetic",
   "metadata": {},
   "source": [
    "#### Exercise 02. Which is cheapest house in the dataset? (★☆☆)\n",
    "\n",
    "Print the address and the price of the selected house. For example:\n",
    "\n",
    "`The house with address Concrete Street Nº1 is the cheapest and its price is 12000 USD`"
   ]
  },
  {
   "cell_type": "code",
   "execution_count": 4,
   "id": "lovely-oasis",
   "metadata": {
    "metadata": {}
   },
   "outputs": [
    {
     "name": "stdout",
     "output_type": "stream",
     "text": [
      "The house with address Paseo del Licenciado Vidriera, Getafe is the cheapest and its price is 0 USD\n"
     ]
    }
   ],
   "source": [
    "ds_sorted = ds.sort_values(by='price', ascending=True)\n",
    "least_expensive_address = ds_sorted.iloc[0]['address']\n",
    "least_expensive_price = ds_sorted.iloc[0]['price']\n",
    "\n",
    "print(f\"The house with address {least_expensive_address} is the cheapest and its price is {least_expensive_price} USD\")"
   ]
  },
  {
   "attachments": {},
   "cell_type": "markdown",
   "id": "compliant-fellowship",
   "metadata": {},
   "source": [
    "#### Exercise 03. Which is the biggest and the smallest house in the dataset? (★☆☆)\n",
    "\n",
    "Print both the address and the surface of the selected houses. For example:\n",
    "\n",
    "`The bigger house is located on Yukka Street Nº10 and its surface is 5000 meters`\n",
    "\n",
    "`The smaller house is located on County Road 1 N and its surface is 200 meters`"
   ]
  },
  {
   "cell_type": "code",
   "execution_count": 5,
   "id": "every-tiffany",
   "metadata": {
    "metadata": {}
   },
   "outputs": [
    {
     "name": "stdout",
     "output_type": "stream",
     "text": [
      "The bigger house is located on Sevilla la Nueva and its surface is 249000.0 meters\n",
      "The samller house is located on Calle Amparo,  Madrid Capital and its surface is 15.0 meters\n"
     ]
    }
   ],
   "source": [
    "ds_sorted_big = ds.sort_values(by='surface', ascending=False)\n",
    "ds_sorted_small = ds.sort_values(by='surface', ascending=True)\n",
    "\n",
    "big_address = ds_sorted_big.iloc[0]['address']\n",
    "big_surface = ds_sorted_big.iloc[0]['surface']\n",
    "\n",
    "small_address = ds_sorted_small.iloc[0]['address']\n",
    "small_surface = ds_sorted_small.iloc[0]['surface']\n",
    "\n",
    "print(f\"The bigger house is located on {big_address} and its surface is {big_surface} meters\")\n",
    "print(f\"The samller house is located on {small_address} and its surface is {small_surface} meters\")"
   ]
  },
  {
   "attachments": {},
   "cell_type": "markdown",
   "id": "danish-spirit",
   "metadata": {},
   "source": [
    "#### Exercise 04. How many populations (level5 column) the dataset contains? (★☆☆)\n",
    "\n",
    "Print the name of the populations with comma as separator. For example:\n",
    "\n",
    "`> print(populations)`\n",
    "\n",
    "`population1, population2, population3,...`"
   ]
  },
  {
   "cell_type": "code",
   "execution_count": 6,
   "id": "exciting-accreditation",
   "metadata": {
    "metadata": {}
   },
   "outputs": [
    {
     "name": "stdout",
     "output_type": "stream",
     "text": [
      "There are 168 diferent populations and those are: ['Moralzarzal', 'Colmenarejo', 'Colmenar de Oreja', 'Moraleja de Enmedio', 'Cenicientos', 'Ajalvir', 'Navalagamella', 'Villaviciosa de Odón', 'Braojos', 'Cobeña', 'Fuenlabrada', 'Getafe', 'Valdemaqueda', 'Torrejón de Velasco', 'Villar del Olmo', 'Madarcos', 'Collado Villalba', 'Valdelaguna', 'Villanueva del Pardillo', 'Valdeavero', 'La Cabrera', 'El Escorial', 'Garganta de los Montes', 'Orusco de Tajuña', 'Chapinería', 'Villaconejos', 'Arganda del Rey', 'El Atazar', 'Patones', 'Camarma de Esteruelas', 'Galapagar', ' Madrid Capital', 'Navacerrada', 'Santa María de la Alameda', 'Aldea del Fresno', 'Sevilla la Nueva', 'Torrejón de Ardoz', 'Navas del Rey', 'Gascones', 'Piñuécar-gandullas', 'Los Santos de la Humosa', 'Villanueva de la Cañada', 'Ciempozuelos', 'Robregordo', 'Valverde de Alcalá', 'Manzanares El Real', 'Navalafuente', 'Paracuellos de Jarama', 'Ambite', 'Villalbilla', 'Miraflores de la Sierra', 'San Agustín del Guadalix', 'El Boalo - Cerceda – Mataelpino', 'Estremera', 'Navarredonda', 'El Berrueco', 'Rivas-vaciamadrid', 'Pedrezuela', 'Valdemoro', 'Torrejón de la Calzada', 'Torrelaguna', 'Torrelodones', 'Humanes de Madrid', 'Griñón', 'Cercedilla', 'Aranjuez', 'Valdeolmos-Alalpardo', 'Colmenar Viejo', 'Villarejo de Salvanés', 'Bustarviejo', 'Valdemorillo', 'Puentes Viejas', 'Boadilla del Monte', 'Pozuelo de Alarcón', 'Cubas de la Sagra', 'Fresno de Torote - Serracines', 'Valdemanco', 'Alcobendas', 'Valdetorres de Jarama', 'Venturada', 'Pinilla del Valle', 'Lozoyuela-navas-sieteiglesias', 'El Álamo', 'Villamanta', 'Campo Real', 'Cadalso de los Vidrios', 'Fresnedillas de la Oliva', 'Las Rozas de Madrid', 'San Martín de Valdeiglesias', 'Gargantilla del Lozoya', 'Pezuela de las Torres', 'Perales de Tajuña', 'El Molar (Madrid)', 'Robledo de Chavela', 'El Vellón', 'Nuevo Baztán', 'Alpedrete', 'Los Molinos', 'Becerril de la Sierra', 'Cabanillas de la Sierra', 'Santorcaz', 'Majadahonda', 'San Fernando de Henares', 'Chinchón', 'Lozoya', 'Fuentidueña de Tajo', 'Pelayos de la Presa', 'Buitrago del Lozoya', 'Guadalix de la Sierra', 'Tielmes', 'Pozuelo del Rey', 'Fresno de Torote', 'Belmonte de Tajo', 'Villamantilla', 'Valdaracete', 'Fuente El Saz de Jarama', 'Villa del Prado', 'Horcajo de la Sierra', 'Batres', 'Tres Cantos', 'Guadarrama', 'Valdepiélagos', 'Meco', 'Pinto', 'Mejorada del Campo', 'Torres de la Alameda', 'Torremocha de Jarama', 'Parla', 'Alcalá de Henares', 'Casarrubuelos', 'Móstoles', 'Corpa', 'Carabaña', 'Leganés', 'Quijorna', 'Canencia', 'Redueña', 'Villanueva de Perales', 'Velilla de San Antonio', 'Rascafría', 'Daganzo de Arriba', 'Montejo de la Sierra', 'Ribatejada', 'San Martín de la Vega', 'Colmenar del Arroyo', 'Collado Mediano', 'San Sebastián de los Reyes', 'Talamanca de Jarama', 'Brea de Tajo', 'Serranillos del Valle', 'Loeches', 'Brunete', 'Alcorcón', 'Villamanrique de Tajo', 'Valdilecha', 'Coslada', 'Villavieja del Lozoya', 'Navalcarnero', 'La Hiruela', 'Arroyomolinos (Madrid)', 'Morata de Tajuña', 'San Lorenzo de El Escorial', 'Anchuelo', 'Soto del Real', 'Titulcia', 'Algete', 'Zarzalejo', 'Hoyo de Manzanares']\n"
     ]
    }
   ],
   "source": [
    "populations_list = ds['level5'].tolist()\n",
    "populations_set = set(populations_list)\n",
    "populations_list = list(populations_set)\n",
    "print(f\"There are {len(populations_list)} diferent populations and those are: {populations_list}\")"
   ]
  },
  {
   "attachments": {},
   "cell_type": "markdown",
   "id": "crazy-blame",
   "metadata": {},
   "source": [
    "#### Exercise 05. Does the dataset contain NAs? (★☆☆)\n",
    "\n",
    "Print a boolean value (`true` or `fase`) followed by the rows/cols that contains NAs."
   ]
  },
  {
   "cell_type": "code",
   "execution_count": 7,
   "id": "transparent-poetry",
   "metadata": {
    "metadata": {}
   },
   "outputs": [
    {
     "name": "stdout",
     "output_type": "stream",
     "text": [
      "True\n",
      "Column 'realEstate_name' contains NaN values\n",
      "Column 'phone_realEstate' contains NaN values\n",
      "Column 'rooms' contains NaN values\n",
      "Column 'bathrooms' contains NaN values\n",
      "Column 'surface' contains NaN values\n",
      "Column 'description' contains NaN values\n",
      "Column 'level4' contains NaN values\n",
      "Column 'level6' contains NaN values\n",
      "Column 'level7' contains NaN values\n",
      "Column 'level8' contains NaN values\n",
      "Column 'zipCode' contains NaN values\n",
      "Column 'customZone' contains NaN values\n"
     ]
    }
   ],
   "source": [
    "contain_na = ds.isna().any().any()\n",
    "print(contain_na)\n",
    "for column in ds.columns:\n",
    "    if ds[column].isna().any():\n",
    "        print(f\"Column '{column}' contains NaN values\")"
   ]
  },
  {
   "attachments": {},
   "cell_type": "markdown",
   "id": "italic-hydrogen",
   "metadata": {},
   "source": [
    "#### Exercise 06. Delete the NAs of the dataset, if applicable (★★☆)\n",
    "\n",
    "Print a comparison between the dimensions of the original DataFrame versus the DataFrame after the deletions"
   ]
  },
  {
   "cell_type": "code",
   "execution_count": 8,
   "id": "administrative-roads",
   "metadata": {
    "metadata": {}
   },
   "outputs": [
    {
     "name": "stdout",
     "output_type": "stream",
     "text": [
      "['countryId', 'level1Id', 'level2Id', 'level3Id', 'level4Id', 'level5Id', 'level6Id', 'level7Id', 'level8Id']\n",
      "Before removing NA columns:  (15335, 37)\n",
      "After:  (15335, 26)\n"
     ]
    },
    {
     "data": {
      "text/html": [
       "<div>\n",
       "<style scoped>\n",
       "    .dataframe tbody tr th:only-of-type {\n",
       "        vertical-align: middle;\n",
       "    }\n",
       "\n",
       "    .dataframe tbody tr th {\n",
       "        vertical-align: top;\n",
       "    }\n",
       "\n",
       "    .dataframe thead th {\n",
       "        text-align: right;\n",
       "    }\n",
       "</style>\n",
       "<table border=\"1\" class=\"dataframe\">\n",
       "  <thead>\n",
       "    <tr style=\"text-align: right;\">\n",
       "      <th></th>\n",
       "      <th>Unnamed: 0</th>\n",
       "      <th>id_realEstates</th>\n",
       "      <th>isNew</th>\n",
       "      <th>realEstate_name</th>\n",
       "      <th>phone_realEstate</th>\n",
       "      <th>url_inmueble</th>\n",
       "      <th>rooms</th>\n",
       "      <th>bathrooms</th>\n",
       "      <th>surface</th>\n",
       "      <th>price</th>\n",
       "      <th>...</th>\n",
       "      <th>level3</th>\n",
       "      <th>level4</th>\n",
       "      <th>level5</th>\n",
       "      <th>level6</th>\n",
       "      <th>level7</th>\n",
       "      <th>level8</th>\n",
       "      <th>upperLevel</th>\n",
       "      <th>accuracy</th>\n",
       "      <th>latitude</th>\n",
       "      <th>longitude</th>\n",
       "    </tr>\n",
       "  </thead>\n",
       "  <tbody>\n",
       "    <tr>\n",
       "      <th>0</th>\n",
       "      <td>1</td>\n",
       "      <td>153771986</td>\n",
       "      <td>False</td>\n",
       "      <td>ferrari 57 inmobiliaria</td>\n",
       "      <td>912177526.0</td>\n",
       "      <td>https://www.fotocasa.es/es/comprar/vivienda/ma...</td>\n",
       "      <td>3.0</td>\n",
       "      <td>2.0</td>\n",
       "      <td>103.0</td>\n",
       "      <td>195000</td>\n",
       "      <td>...</td>\n",
       "      <td>Madrid Sureste - Cuenca Tajuña</td>\n",
       "      <td>Arganda del Rey, Zona de</td>\n",
       "      <td>Arganda del Rey</td>\n",
       "      <td>0</td>\n",
       "      <td>Perlita</td>\n",
       "      <td>0</td>\n",
       "      <td>Perlita</td>\n",
       "      <td>0</td>\n",
       "      <td>40,2948276786438</td>\n",
       "      <td>-3,44402412135624</td>\n",
       "    </tr>\n",
       "    <tr>\n",
       "      <th>1</th>\n",
       "      <td>2</td>\n",
       "      <td>153867863</td>\n",
       "      <td>False</td>\n",
       "      <td>tecnocasa fuenlabrada ferrocarril</td>\n",
       "      <td>916358736.0</td>\n",
       "      <td>https://www.fotocasa.es/es/comprar/vivienda/ma...</td>\n",
       "      <td>3.0</td>\n",
       "      <td>1.0</td>\n",
       "      <td>0.0</td>\n",
       "      <td>89000</td>\n",
       "      <td>...</td>\n",
       "      <td>Zona Sur de Madrid</td>\n",
       "      <td>Fuenlabrada, Zona de</td>\n",
       "      <td>Fuenlabrada</td>\n",
       "      <td>0</td>\n",
       "      <td>Centro</td>\n",
       "      <td>0</td>\n",
       "      <td>Centro</td>\n",
       "      <td>1</td>\n",
       "      <td>40,28674</td>\n",
       "      <td>-3,79351</td>\n",
       "    </tr>\n",
       "    <tr>\n",
       "      <th>2</th>\n",
       "      <td>3</td>\n",
       "      <td>153430440</td>\n",
       "      <td>False</td>\n",
       "      <td>look find boadilla</td>\n",
       "      <td>916350408.0</td>\n",
       "      <td>https://www.fotocasa.es/es/comprar/vivienda/ma...</td>\n",
       "      <td>2.0</td>\n",
       "      <td>2.0</td>\n",
       "      <td>99.0</td>\n",
       "      <td>390000</td>\n",
       "      <td>...</td>\n",
       "      <td>Zona Noroeste</td>\n",
       "      <td>Boadilla del Monte, Zona de</td>\n",
       "      <td>Boadilla del Monte</td>\n",
       "      <td>0</td>\n",
       "      <td>Sector B</td>\n",
       "      <td>0</td>\n",
       "      <td>Sector B</td>\n",
       "      <td>0</td>\n",
       "      <td>40,4115646786438</td>\n",
       "      <td>-3,90662252135624</td>\n",
       "    </tr>\n",
       "    <tr>\n",
       "      <th>3</th>\n",
       "      <td>4</td>\n",
       "      <td>152776331</td>\n",
       "      <td>False</td>\n",
       "      <td>tecnocasa fuenlabrada ferrocarril</td>\n",
       "      <td>916358736.0</td>\n",
       "      <td>https://www.fotocasa.es/es/comprar/vivienda/ma...</td>\n",
       "      <td>3.0</td>\n",
       "      <td>1.0</td>\n",
       "      <td>86.0</td>\n",
       "      <td>89000</td>\n",
       "      <td>...</td>\n",
       "      <td>Zona Sur de Madrid</td>\n",
       "      <td>Fuenlabrada, Zona de</td>\n",
       "      <td>Fuenlabrada</td>\n",
       "      <td>0</td>\n",
       "      <td>Centro</td>\n",
       "      <td>0</td>\n",
       "      <td>Centro</td>\n",
       "      <td>0</td>\n",
       "      <td>40,2853785786438</td>\n",
       "      <td>-3,79508142135624</td>\n",
       "    </tr>\n",
       "    <tr>\n",
       "      <th>4</th>\n",
       "      <td>5</td>\n",
       "      <td>153180188</td>\n",
       "      <td>False</td>\n",
       "      <td>ferrari 57 inmobiliaria</td>\n",
       "      <td>912177526.0</td>\n",
       "      <td>https://www.fotocasa.es/es/comprar/vivienda/ma...</td>\n",
       "      <td>2.0</td>\n",
       "      <td>2.0</td>\n",
       "      <td>106.0</td>\n",
       "      <td>172000</td>\n",
       "      <td>...</td>\n",
       "      <td>Madrid Sureste - Cuenca Tajuña</td>\n",
       "      <td>Arganda del Rey, Zona de</td>\n",
       "      <td>Arganda del Rey</td>\n",
       "      <td>0</td>\n",
       "      <td>Centro</td>\n",
       "      <td>0</td>\n",
       "      <td>Centro</td>\n",
       "      <td>0</td>\n",
       "      <td>40,2998774864376</td>\n",
       "      <td>-3,45226301356237</td>\n",
       "    </tr>\n",
       "    <tr>\n",
       "      <th>...</th>\n",
       "      <td>...</td>\n",
       "      <td>...</td>\n",
       "      <td>...</td>\n",
       "      <td>...</td>\n",
       "      <td>...</td>\n",
       "      <td>...</td>\n",
       "      <td>...</td>\n",
       "      <td>...</td>\n",
       "      <td>...</td>\n",
       "      <td>...</td>\n",
       "      <td>...</td>\n",
       "      <td>...</td>\n",
       "      <td>...</td>\n",
       "      <td>...</td>\n",
       "      <td>...</td>\n",
       "      <td>...</td>\n",
       "      <td>...</td>\n",
       "      <td>...</td>\n",
       "      <td>...</td>\n",
       "      <td>...</td>\n",
       "      <td>...</td>\n",
       "    </tr>\n",
       "    <tr>\n",
       "      <th>15330</th>\n",
       "      <td>15331</td>\n",
       "      <td>153901377</td>\n",
       "      <td>False</td>\n",
       "      <td>infocasa consulting</td>\n",
       "      <td>911360461.0</td>\n",
       "      <td>https://www.fotocasa.es/es/comprar/vivienda/ma...</td>\n",
       "      <td>2.0</td>\n",
       "      <td>1.0</td>\n",
       "      <td>96.0</td>\n",
       "      <td>259470</td>\n",
       "      <td>...</td>\n",
       "      <td>Madrid, Zona de</td>\n",
       "      <td>0</td>\n",
       "      <td>Madrid Capital</td>\n",
       "      <td>0</td>\n",
       "      <td>Tetuán</td>\n",
       "      <td>Berruguete</td>\n",
       "      <td>Berruguete</td>\n",
       "      <td>0</td>\n",
       "      <td>40,45416</td>\n",
       "      <td>-3,70286</td>\n",
       "    </tr>\n",
       "    <tr>\n",
       "      <th>15331</th>\n",
       "      <td>15332</td>\n",
       "      <td>150394373</td>\n",
       "      <td>False</td>\n",
       "      <td>inmobiliaria pulpon</td>\n",
       "      <td>912788039.0</td>\n",
       "      <td>https://www.fotocasa.es/es/comprar/vivienda/ma...</td>\n",
       "      <td>3.0</td>\n",
       "      <td>1.0</td>\n",
       "      <td>150.0</td>\n",
       "      <td>165000</td>\n",
       "      <td>...</td>\n",
       "      <td>Madrid Sureste - Cuenca Tajuña</td>\n",
       "      <td>Velilla de San Antonio, Zona de</td>\n",
       "      <td>Velilla de San Antonio</td>\n",
       "      <td>0</td>\n",
       "      <td>0</td>\n",
       "      <td>0</td>\n",
       "      <td>Velilla de San Antonio</td>\n",
       "      <td>0</td>\n",
       "      <td>40,36652</td>\n",
       "      <td>-3,48951</td>\n",
       "    </tr>\n",
       "    <tr>\n",
       "      <th>15332</th>\n",
       "      <td>15333</td>\n",
       "      <td>153901397</td>\n",
       "      <td>False</td>\n",
       "      <td>tecnocasa torrelodones</td>\n",
       "      <td>912780348.0</td>\n",
       "      <td>https://www.fotocasa.es/es/comprar/vivienda/ma...</td>\n",
       "      <td>4.0</td>\n",
       "      <td>2.0</td>\n",
       "      <td>175.0</td>\n",
       "      <td>495000</td>\n",
       "      <td>...</td>\n",
       "      <td>Zona Noroeste</td>\n",
       "      <td>Torrelodones, Zona de</td>\n",
       "      <td>Torrelodones</td>\n",
       "      <td>0</td>\n",
       "      <td>Casco Antiguo</td>\n",
       "      <td>0</td>\n",
       "      <td>Casco Antiguo</td>\n",
       "      <td>0</td>\n",
       "      <td>40,57444</td>\n",
       "      <td>-3,92124</td>\n",
       "    </tr>\n",
       "    <tr>\n",
       "      <th>15333</th>\n",
       "      <td>15334</td>\n",
       "      <td>152607440</td>\n",
       "      <td>False</td>\n",
       "      <td>inmobiliaria pulpon</td>\n",
       "      <td>912788039.0</td>\n",
       "      <td>https://www.fotocasa.es/es/comprar/vivienda/ma...</td>\n",
       "      <td>3.0</td>\n",
       "      <td>2.0</td>\n",
       "      <td>101.0</td>\n",
       "      <td>195000</td>\n",
       "      <td>...</td>\n",
       "      <td>Madrid Sureste - Cuenca Tajuña</td>\n",
       "      <td>Velilla de San Antonio, Zona de</td>\n",
       "      <td>Velilla de San Antonio</td>\n",
       "      <td>0</td>\n",
       "      <td>0</td>\n",
       "      <td>0</td>\n",
       "      <td>Velilla de San Antonio</td>\n",
       "      <td>0</td>\n",
       "      <td>40,36967</td>\n",
       "      <td>-3,48105</td>\n",
       "    </tr>\n",
       "    <tr>\n",
       "      <th>15334</th>\n",
       "      <td>15335</td>\n",
       "      <td>153901356</td>\n",
       "      <td>False</td>\n",
       "      <td>infocasa consulting</td>\n",
       "      <td>911360461.0</td>\n",
       "      <td>https://www.fotocasa.es/es/comprar/vivienda/ma...</td>\n",
       "      <td>3.0</td>\n",
       "      <td>2.0</td>\n",
       "      <td>152.0</td>\n",
       "      <td>765000</td>\n",
       "      <td>...</td>\n",
       "      <td>Madrid, Zona de</td>\n",
       "      <td>0</td>\n",
       "      <td>Madrid Capital</td>\n",
       "      <td>0</td>\n",
       "      <td>Tetuán</td>\n",
       "      <td>Castillejos - Cuzco</td>\n",
       "      <td>Castillejos - Cuzco</td>\n",
       "      <td>0</td>\n",
       "      <td>40,45773</td>\n",
       "      <td>-3,69068</td>\n",
       "    </tr>\n",
       "  </tbody>\n",
       "</table>\n",
       "<p>15335 rows × 26 columns</p>\n",
       "</div>"
      ],
      "text/plain": [
       "       Unnamed: 0  id_realEstates  isNew                    realEstate_name  \\\n",
       "0               1       153771986  False            ferrari 57 inmobiliaria   \n",
       "1               2       153867863  False  tecnocasa fuenlabrada ferrocarril   \n",
       "2               3       153430440  False                 look find boadilla   \n",
       "3               4       152776331  False  tecnocasa fuenlabrada ferrocarril   \n",
       "4               5       153180188  False            ferrari 57 inmobiliaria   \n",
       "...           ...             ...    ...                                ...   \n",
       "15330       15331       153901377  False                infocasa consulting   \n",
       "15331       15332       150394373  False                inmobiliaria pulpon   \n",
       "15332       15333       153901397  False             tecnocasa torrelodones   \n",
       "15333       15334       152607440  False                inmobiliaria pulpon   \n",
       "15334       15335       153901356  False                infocasa consulting   \n",
       "\n",
       "       phone_realEstate                                       url_inmueble  \\\n",
       "0           912177526.0  https://www.fotocasa.es/es/comprar/vivienda/ma...   \n",
       "1           916358736.0  https://www.fotocasa.es/es/comprar/vivienda/ma...   \n",
       "2           916350408.0  https://www.fotocasa.es/es/comprar/vivienda/ma...   \n",
       "3           916358736.0  https://www.fotocasa.es/es/comprar/vivienda/ma...   \n",
       "4           912177526.0  https://www.fotocasa.es/es/comprar/vivienda/ma...   \n",
       "...                 ...                                                ...   \n",
       "15330       911360461.0  https://www.fotocasa.es/es/comprar/vivienda/ma...   \n",
       "15331       912788039.0  https://www.fotocasa.es/es/comprar/vivienda/ma...   \n",
       "15332       912780348.0  https://www.fotocasa.es/es/comprar/vivienda/ma...   \n",
       "15333       912788039.0  https://www.fotocasa.es/es/comprar/vivienda/ma...   \n",
       "15334       911360461.0  https://www.fotocasa.es/es/comprar/vivienda/ma...   \n",
       "\n",
       "       rooms  bathrooms  surface   price  ...                          level3  \\\n",
       "0        3.0        2.0    103.0  195000  ...  Madrid Sureste - Cuenca Tajuña   \n",
       "1        3.0        1.0      0.0   89000  ...              Zona Sur de Madrid   \n",
       "2        2.0        2.0     99.0  390000  ...                   Zona Noroeste   \n",
       "3        3.0        1.0     86.0   89000  ...              Zona Sur de Madrid   \n",
       "4        2.0        2.0    106.0  172000  ...  Madrid Sureste - Cuenca Tajuña   \n",
       "...      ...        ...      ...     ...  ...                             ...   \n",
       "15330    2.0        1.0     96.0  259470  ...                 Madrid, Zona de   \n",
       "15331    3.0        1.0    150.0  165000  ...  Madrid Sureste - Cuenca Tajuña   \n",
       "15332    4.0        2.0    175.0  495000  ...                   Zona Noroeste   \n",
       "15333    3.0        2.0    101.0  195000  ...  Madrid Sureste - Cuenca Tajuña   \n",
       "15334    3.0        2.0    152.0  765000  ...                 Madrid, Zona de   \n",
       "\n",
       "                                level4                  level5 level6  \\\n",
       "0             Arganda del Rey, Zona de         Arganda del Rey      0   \n",
       "1                 Fuenlabrada, Zona de             Fuenlabrada      0   \n",
       "2          Boadilla del Monte, Zona de      Boadilla del Monte      0   \n",
       "3                 Fuenlabrada, Zona de             Fuenlabrada      0   \n",
       "4             Arganda del Rey, Zona de         Arganda del Rey      0   \n",
       "...                                ...                     ...    ...   \n",
       "15330                                0          Madrid Capital      0   \n",
       "15331  Velilla de San Antonio, Zona de  Velilla de San Antonio      0   \n",
       "15332            Torrelodones, Zona de            Torrelodones      0   \n",
       "15333  Velilla de San Antonio, Zona de  Velilla de San Antonio      0   \n",
       "15334                                0          Madrid Capital      0   \n",
       "\n",
       "              level7               level8              upperLevel accuracy  \\\n",
       "0            Perlita                    0                 Perlita        0   \n",
       "1             Centro                    0                  Centro        1   \n",
       "2           Sector B                    0                Sector B        0   \n",
       "3             Centro                    0                  Centro        0   \n",
       "4             Centro                    0                  Centro        0   \n",
       "...              ...                  ...                     ...      ...   \n",
       "15330         Tetuán           Berruguete              Berruguete        0   \n",
       "15331              0                    0  Velilla de San Antonio        0   \n",
       "15332  Casco Antiguo                    0           Casco Antiguo        0   \n",
       "15333              0                    0  Velilla de San Antonio        0   \n",
       "15334         Tetuán  Castillejos - Cuzco     Castillejos - Cuzco        0   \n",
       "\n",
       "               latitude          longitude  \n",
       "0      40,2948276786438  -3,44402412135624  \n",
       "1              40,28674           -3,79351  \n",
       "2      40,4115646786438  -3,90662252135624  \n",
       "3      40,2853785786438  -3,79508142135624  \n",
       "4      40,2998774864376  -3,45226301356237  \n",
       "...                 ...                ...  \n",
       "15330          40,45416           -3,70286  \n",
       "15331          40,36652           -3,48951  \n",
       "15332          40,57444           -3,92124  \n",
       "15333          40,36967           -3,48105  \n",
       "15334          40,45773           -3,69068  \n",
       "\n",
       "[15335 rows x 26 columns]"
      ]
     },
     "execution_count": 8,
     "metadata": {},
     "output_type": "execute_result"
    }
   ],
   "source": [
    "na_full_columns = []\n",
    "\n",
    "# Find columns with only NaN values\n",
    "for column in ds.columns:\n",
    "    if ds[column].isna().all():\n",
    "        na_full_columns.append(column)\n",
    "\n",
    "# Remove columns with only NaN values\n",
    "ds_drop = ds.drop(na_full_columns, axis=1)\n",
    "\n",
    "# Fill NaN with 0's\n",
    "ds_filled = ds_drop.fillna(0)\n",
    "\n",
    "\n",
    "full_0_columns = []\n",
    "\n",
    "# Find all columns with only 0's on them\n",
    "for column in ds_filled.columns:\n",
    "    if all(value == 0 for value in ds_filled[column]):\n",
    "        full_0_columns.append(column)\n",
    "\n",
    "print(full_0_columns)\n",
    "# Remove columns with only 0's \n",
    "ds_clean = ds_filled.drop(full_0_columns, axis=1)\n",
    "\n",
    "\n",
    "print(\"Before removing NA columns: \", ds.shape)\n",
    "print(\"After: \", ds_clean.shape)\n",
    "ds_clean"
   ]
  },
  {
   "attachments": {},
   "cell_type": "markdown",
   "id": "middle-china",
   "metadata": {},
   "source": [
    "#### Exercise 07. Which is the mean of prices in the population (level5 column) of \"Arroyomolinos (Madrid)\"? (★★☆)\n",
    "\n",
    "Print the obtained value"
   ]
  },
  {
   "cell_type": "code",
   "execution_count": 9,
   "id": "nuclear-belief",
   "metadata": {
    "metadata": {}
   },
   "outputs": [
    {
     "data": {
      "text/plain": [
       "294541.59854014596"
      ]
     },
     "execution_count": 9,
     "metadata": {},
     "output_type": "execute_result"
    }
   ],
   "source": [
    "column_check = 'level5'\n",
    "population_check = \"Arroyomolinos (Madrid)\"\n",
    "ds_arroyomolinos = ds_clean[ds_clean[column_check] == population_check]\n",
    "\n",
    "ds_arroyomolinos['price'].mean()"
   ]
  },
  {
   "attachments": {},
   "cell_type": "markdown",
   "id": "concerned-radical",
   "metadata": {},
   "source": [
    "#### Exercise 08. Plot the histogram of prices for the population (level5 column) of \"Arroyomolinos (Madrid)\" and explain what you observe (★★☆)\n",
    "\n",
    "Print the histogram of the prices and write in the Markdown cell a brief analysis about the plot."
   ]
  },
  {
   "cell_type": "code",
   "execution_count": 10,
   "id": "sudden-message",
   "metadata": {
    "metadata": {}
   },
   "outputs": [
    {
     "data": {
      "image/png": "[encoded data removed]",
      "text/plain": [
       "<Figure size 1000x500 with 1 Axes>"
      ]
     },
     "metadata": {},
     "output_type": "display_data"
    }
   ],
   "source": [
    "import matplotlib.pyplot as plt\n",
    "\n",
    "plt.figure(figsize = (10, 5))\n",
    "\n",
    "plt.hist(ds_arroyomolinos['price'], bins = 40, alpha = 0.7)\n",
    "\n",
    "plt.title(\"Histogram\")\n",
    "plt.xlabel(\"Price\")\n",
    "plt.ylabel(\"Amount\")\n",
    "plt.show()"
   ]
  },
  {
   "attachments": {},
   "cell_type": "markdown",
   "id": "impressed-combination",
   "metadata": {},
   "source": [
    "We can observe that most of the houses are within the $200k-$400k range, specifically around $290k which makes a lot of sense since the average price on this place is ~$295k. There are also a few outliers going up to almost $600k and a couple selling for free."
   ]
  },
  {
   "attachments": {},
   "cell_type": "markdown",
   "id": "actual-edinburgh",
   "metadata": {},
   "source": [
    "#### Exercise 09. Are the averages of \"Valdemorillo\" and \"Galapagar\" prices the same? (★★☆)\n",
    "\n",
    "Print the both average prices and then write a conclusion about them"
   ]
  },
  {
   "cell_type": "code",
   "execution_count": 11,
   "id": "numeric-commerce",
   "metadata": {
    "metadata": {}
   },
   "outputs": [
    {
     "name": "stdout",
     "output_type": "stream",
     "text": [
      "Average of Valdemorillo: 363860.2931034483\n",
      "Average of Galapagar: 360063.20238095237\n"
     ]
    }
   ],
   "source": [
    "column_check = 'level5'\n",
    "population_check_val = \"Valdemorillo\"\n",
    "population_check_gal = \"Galapagar\"\n",
    "ds_valdemorillo = ds_clean[ds_clean[column_check] == population_check_val]\n",
    "ds_galapagar = ds_clean[ds_clean[column_check] == population_check_gal]\n",
    "\n",
    "print(f\"Average of Valdemorillo: {ds_valdemorillo['price'].mean()}\")\n",
    "print(f\"Average of Galapagar: {ds_galapagar['price'].mean()}\")"
   ]
  },
  {
   "cell_type": "markdown",
   "id": "c012b1cc",
   "metadata": {},
   "source": [
    "They're about the same average price."
   ]
  },
  {
   "attachments": {},
   "cell_type": "markdown",
   "id": "lonely-article",
   "metadata": {},
   "source": [
    "#### Exercise 10. Are the averages of \"Valdemorillo\" and \"Galapagar\" price per square meter (price/m2) the same? (★★☆)\n",
    "\n",
    "Print the both average prices and then write a conclusion about\n",
    "\n",
    "Hint: Create a new column called `pps` (price per square) and then analyse the values"
   ]
  },
  {
   "cell_type": "code",
   "execution_count": 12,
   "id": "hourly-globe",
   "metadata": {
    "metadata": {}
   },
   "outputs": [],
   "source": [
    "ds_valdemorillo_copy = ds_valdemorillo.copy()\n",
    "ds_galapagar_copy = ds_galapagar.copy()"
   ]
  },
  {
   "cell_type": "code",
   "execution_count": 13,
   "id": "6153d3c6",
   "metadata": {},
   "outputs": [],
   "source": [
    "import numpy as np\n",
    "\n",
    "# Create new column pps = price/surface with exception to replace 0's with NaN to avoid inf outputs\n",
    "ds_valdemorillo_copy['pps'] = ds_valdemorillo_copy['price'].div(ds_valdemorillo_copy['surface'].replace(0, np.nan))\n",
    "ds_galapagar_copy['pps'] = ds_galapagar_copy['price'].div(ds_galapagar_copy['surface'].replace(0, np.nan))"
   ]
  },
  {
   "cell_type": "code",
   "execution_count": 14,
   "id": "83689b20",
   "metadata": {
    "metadata": {}
   },
   "outputs": [
    {
     "name": "stdout",
     "output_type": "stream",
     "text": [
      "Valdemorillo pps average: 1317.9502109024986 with 58 different houses\n",
      "Galapagar pps average: 1606.3240303094024 with 84 different houses\n"
     ]
    }
   ],
   "source": [
    "print(f\"Valdemorillo pps average: {ds_valdemorillo_copy['pps'].mean()} with {len(ds_valdemorillo_copy['price'])} different houses\")\n",
    "print(f\"Galapagar pps average: {ds_galapagar_copy['pps'].mean()} with {len(ds_galapagar_copy['price'])} different houses\")"
   ]
  },
  {
   "attachments": {},
   "cell_type": "markdown",
   "id": "pleasant-invite",
   "metadata": {},
   "source": [
    "#### Exercise 11. Analyse the relation between the surface and the price of the houses (★★☆)\n",
    "\n",
    "Hint: You can make a `scatter plot` and then write a conclusion about it"
   ]
  },
  {
   "cell_type": "code",
   "execution_count": 15,
   "id": "common-drilling",
   "metadata": {
    "metadata": {}
   },
   "outputs": [
    {
     "data": {
      "image/png": "[encoded data removed]",
      "text/plain": [
       "<Figure size 1000x500 with 1 Axes>"
      ]
     },
     "metadata": {},
     "output_type": "display_data"
    }
   ],
   "source": [
    "plt.figure(figsize = (10, 5))\n",
    "\n",
    "plt.scatter(ds_valdemorillo_copy['price'], ds_valdemorillo_copy['surface'], label = \"Valdemorillo\")\n",
    "plt.scatter(ds_galapagar_copy['price'], ds_galapagar_copy['surface'], label = \"Galapagar\")\n",
    "\n",
    "plt.title(\"Scatter plot\")\n",
    "plt.xlabel(\"Price\")\n",
    "plt.ylabel(\"Surface (m2)\")\n",
    "plt.legend()\n",
    "plt.show()"
   ]
  },
  {
   "attachments": {},
   "cell_type": "markdown",
   "id": "common-drilling",
   "metadata": {
    "metadata": {}
   },
   "source": [
    "As we can see, the avg price of the houses in Valdemorillo is way higher but the amount of houses in Galapagar is larger.\n",
    "\n"
   ]
  },
  {
   "attachments": {},
   "cell_type": "markdown",
   "id": "coordinate-sunrise",
   "metadata": {},
   "source": [
    "#### Exercise 12. How many real estate agencies the dataset contains? (★★☆)\n",
    "\n",
    "Print the obtained value"
   ]
  },
  {
   "cell_type": "code",
   "execution_count": 16,
   "id": "valid-honolulu",
   "metadata": {},
   "outputs": [
    {
     "name": "stdout",
     "output_type": "stream",
     "text": [
      "There are 1822 different real state agencies\n"
     ]
    }
   ],
   "source": [
    "\n",
    "print(f\"There are {len(ds_clean['realEstate_name'].unique())} different real state agencies\")"
   ]
  },
  {
   "attachments": {},
   "cell_type": "markdown",
   "id": "binding-ebony",
   "metadata": {},
   "source": [
    "#### Exercise 13. Which is the population (level5 column) that contains the most houses? (★★☆)\n",
    "\n",
    "Print both the population and the number of houses"
   ]
  },
  {
   "cell_type": "code",
   "execution_count": 17,
   "id": "static-perry",
   "metadata": {},
   "outputs": [
    {
     "name": "stdout",
     "output_type": "stream",
     "text": [
      "The most common population is  Madrid Capital with 6643 houses\n"
     ]
    }
   ],
   "source": [
    "duplicates = ds_clean['level5'].value_counts()\n",
    "most_common = duplicates.idxmax()\n",
    "most_common_count = duplicates.max()\n",
    "print(f\"The most common population is {most_common} with {most_common_count} houses\")"
   ]
  },
  {
   "attachments": {},
   "cell_type": "markdown",
   "id": "entire-classification",
   "metadata": {},
   "source": [
    "#### Exercise 14. Now let's work with the \"south belt\" of madrid. Make a subset of the original DataFrame that contains the following populations (level5 column): \"Fuenlabrada\",\"Leganés\",\"Getafe\",\"Alcorcón\" (★★☆)\n",
    "\n",
    "Hint: Filter the original DataFrame using the column `level5` and the function `isin`"
   ]
  },
  {
   "cell_type": "code",
   "execution_count": 18,
   "id": "binary-input",
   "metadata": {},
   "outputs": [],
   "source": [
    "ds_southbelt = ds_clean[ds_clean['level5'].isin(['Fuenlabrada', 'Leganés', 'Getafe', 'Alcorcón'])]\n"
   ]
  },
  {
   "attachments": {},
   "cell_type": "markdown",
   "id": "severe-fisher",
   "metadata": {},
   "source": [
    "#### Exercise 15. Make a bar plot of the median of the prices and explain what you observe (you must use the subset obtained in the question 14) (★★★)\n",
    "\n",
    "Print the bar of the median of the prices and write in the Markdown cell a brief analysis about the plot"
   ]
  },
  {
   "cell_type": "code",
   "execution_count": 19,
   "id": "lyric-bunch",
   "metadata": {},
   "outputs": [
    {
     "data": {
      "image/png": "[encoded data removed]",
      "text/plain": [
       "<Figure size 1000x500 with 1 Axes>"
      ]
     },
     "metadata": {},
     "output_type": "display_data"
    }
   ],
   "source": [
    "pop = ['Fuenlabrada', 'Leganés', 'Getafe', 'Alcorcón']\n",
    "\n",
    "def get_mean_southbelt(col):\n",
    "    values = []\n",
    "    \n",
    "    for n in pop:\n",
    "        ds_aux = ds_southbelt[ds_southbelt['level5'] == n]\n",
    "        values.append(round(ds_aux[col].mean(), 3))\n",
    "    return values\n",
    "\n",
    "plt.figure(figsize = (10, 5))\n",
    "\n",
    "plt.bar(pop, get_mean_southbelt('price'))\n",
    "\n",
    "plt.title(\"South Belt of Madrid\")\n",
    "plt.xlabel(\"Population\")\n",
    "plt.ylabel(\"Mean Price\")\n",
    "plt.show()"
   ]
  },
  {
   "attachments": {},
   "cell_type": "markdown",
   "id": "sublime-newspaper",
   "metadata": {},
   "source": [
    "We can observe, from cheapest to most expensive, the order is: Getafe, Alcorcón, Leganés and Fuenlabrada"
   ]
  },
  {
   "attachments": {},
   "cell_type": "markdown",
   "id": "speaking-diamond",
   "metadata": {},
   "source": [
    "#### Exercise 16. Calculate the sample mean and variance of the variables: price, rooms, surface area and bathrooms (you must use the subset obtained in the question 14) (★★★)\n",
    "\n",
    "Print both values for each variable"
   ]
  },
  {
   "cell_type": "code",
   "execution_count": 20,
   "id": "random-feeling",
   "metadata": {},
   "outputs": [
    {
     "name": "stdout",
     "output_type": "stream",
     "text": [
      "The mean price is 177198.021 and the variance is 17011401179.213\n",
      "The mean rooms is 2.892 and the variance is 0.776\n",
      "The mean surface is 105.455 and the variance is 5200.064\n",
      "The mean bathrooms is 1.589 and the variance is 0.595\n"
     ]
    }
   ],
   "source": [
    "def get_variance_southbelt(mean_value, df, column_check):\n",
    "    return round(((df[column_check] - mean_value) ** 2).sum() /len(df), 3)\n",
    "\n",
    "\n",
    "cols_to_get = ['price', 'rooms', 'surface', 'bathrooms']\n",
    "\n",
    "aux = 0\n",
    "\n",
    "for col in cols_to_get:\n",
    "    mean_v = get_mean_southbelt(col)\n",
    "    print(f\"The mean {col} is {mean_v[aux]} and the variance is {get_variance_southbelt(mean_v[aux], ds_southbelt, col)}\")\n",
    "    aux+=1"
   ]
  },
  {
   "attachments": {},
   "cell_type": "markdown",
   "id": "revolutionary-matrix",
   "metadata": {},
   "source": [
    "#### Exercise 17. What is the most expensive house of each population? You must use the subset obtained in the question 14 (★★☆)\n",
    "\n",
    "Print both the address and the price of the selected house of each population. You can print a DataFrame or a single line for each population"
   ]
  },
  {
   "cell_type": "code",
   "execution_count": 21,
   "id": "fifteen-browse",
   "metadata": {},
   "outputs": [
    {
     "data": {
      "text/html": [
       "<div>\n",
       "<style scoped>\n",
       "    .dataframe tbody tr th:only-of-type {\n",
       "        vertical-align: middle;\n",
       "    }\n",
       "\n",
       "    .dataframe tbody tr th {\n",
       "        vertical-align: top;\n",
       "    }\n",
       "\n",
       "    .dataframe thead th {\n",
       "        text-align: right;\n",
       "    }\n",
       "</style>\n",
       "<table border=\"1\" class=\"dataframe\">\n",
       "  <thead>\n",
       "    <tr style=\"text-align: right;\">\n",
       "      <th></th>\n",
       "      <th>Unnamed: 0</th>\n",
       "      <th>id_realEstates</th>\n",
       "      <th>isNew</th>\n",
       "      <th>realEstate_name</th>\n",
       "      <th>phone_realEstate</th>\n",
       "      <th>url_inmueble</th>\n",
       "      <th>rooms</th>\n",
       "      <th>bathrooms</th>\n",
       "      <th>surface</th>\n",
       "      <th>price</th>\n",
       "      <th>...</th>\n",
       "      <th>level3</th>\n",
       "      <th>level4</th>\n",
       "      <th>level5</th>\n",
       "      <th>level6</th>\n",
       "      <th>level7</th>\n",
       "      <th>level8</th>\n",
       "      <th>upperLevel</th>\n",
       "      <th>accuracy</th>\n",
       "      <th>latitude</th>\n",
       "      <th>longitude</th>\n",
       "    </tr>\n",
       "  </thead>\n",
       "  <tbody>\n",
       "    <tr>\n",
       "      <th>11561</th>\n",
       "      <td>11562</td>\n",
       "      <td>153660921</td>\n",
       "      <td>False</td>\n",
       "      <td>unna madrid</td>\n",
       "      <td>912780846.0</td>\n",
       "      <td>https://www.fotocasa.es/es/comprar/vivienda/va...</td>\n",
       "      <td>4.0</td>\n",
       "      <td>3.0</td>\n",
       "      <td>274.0</td>\n",
       "      <td>490000</td>\n",
       "      <td>...</td>\n",
       "      <td>Zona Sur de Madrid</td>\n",
       "      <td>Fuenlabrada, Zona de</td>\n",
       "      <td>Fuenlabrada</td>\n",
       "      <td>0</td>\n",
       "      <td>Universidad - Hospital en Fuenlabrada</td>\n",
       "      <td>0</td>\n",
       "      <td>Universidad - Hospital en Fuenlabrada</td>\n",
       "      <td>1</td>\n",
       "      <td>40,28286</td>\n",
       "      <td>-3,81475</td>\n",
       "    </tr>\n",
       "    <tr>\n",
       "      <th>10412</th>\n",
       "      <td>10413</td>\n",
       "      <td>152251506</td>\n",
       "      <td>False</td>\n",
       "      <td>bafre gestion y servicios inmobiliarios</td>\n",
       "      <td>910752245.0</td>\n",
       "      <td>https://www.fotocasa.es/es/comprar/vivienda/co...</td>\n",
       "      <td>6.0</td>\n",
       "      <td>5.0</td>\n",
       "      <td>360.0</td>\n",
       "      <td>650000</td>\n",
       "      <td>...</td>\n",
       "      <td>Zona Sur de Madrid</td>\n",
       "      <td>Leganés, Zona de</td>\n",
       "      <td>Leganés</td>\n",
       "      <td>0</td>\n",
       "      <td>Leganés Norte</td>\n",
       "      <td>0</td>\n",
       "      <td>Leganés Norte</td>\n",
       "      <td>0</td>\n",
       "      <td>40,3423636291504</td>\n",
       "      <td>-3,74814414978027</td>\n",
       "    </tr>\n",
       "    <tr>\n",
       "      <th>2881</th>\n",
       "      <td>2882</td>\n",
       "      <td>151105544</td>\n",
       "      <td>False</td>\n",
       "      <td>unna grupo inmobiliario</td>\n",
       "      <td>912665694.0</td>\n",
       "      <td>https://www.fotocasa.es/es/comprar/vivienda/ma...</td>\n",
       "      <td>6.0</td>\n",
       "      <td>4.0</td>\n",
       "      <td>600.0</td>\n",
       "      <td>1050000</td>\n",
       "      <td>...</td>\n",
       "      <td>Zona Sur de Madrid</td>\n",
       "      <td>Getafe, Zona de</td>\n",
       "      <td>Getafe</td>\n",
       "      <td>0</td>\n",
       "      <td>San Isidro</td>\n",
       "      <td>0</td>\n",
       "      <td>San Isidro</td>\n",
       "      <td>0</td>\n",
       "      <td>40,302820239187</td>\n",
       "      <td>-3,7281704612835</td>\n",
       "    </tr>\n",
       "    <tr>\n",
       "      <th>5585</th>\n",
       "      <td>5586</td>\n",
       "      <td>153275915</td>\n",
       "      <td>False</td>\n",
       "      <td>100 home red inmobiliaria</td>\n",
       "      <td>912669623.0</td>\n",
       "      <td>https://www.fotocasa.es/es/comprar/vivienda/ca...</td>\n",
       "      <td>6.0</td>\n",
       "      <td>6.0</td>\n",
       "      <td>722.0</td>\n",
       "      <td>950000</td>\n",
       "      <td>...</td>\n",
       "      <td>Zona Suroeste</td>\n",
       "      <td>Alcorcón, Zona de</td>\n",
       "      <td>Alcorcón</td>\n",
       "      <td>0</td>\n",
       "      <td>Campodón - Ventorro del Cano</td>\n",
       "      <td>0</td>\n",
       "      <td>Campodón - Ventorro del Cano</td>\n",
       "      <td>0</td>\n",
       "      <td>40,3535169</td>\n",
       "      <td>-3,8664683</td>\n",
       "    </tr>\n",
       "  </tbody>\n",
       "</table>\n",
       "<p>4 rows × 26 columns</p>\n",
       "</div>"
      ],
      "text/plain": [
       "       Unnamed: 0  id_realEstates  isNew  \\\n",
       "11561       11562       153660921  False   \n",
       "10412       10413       152251506  False   \n",
       "2881         2882       151105544  False   \n",
       "5585         5586       153275915  False   \n",
       "\n",
       "                               realEstate_name  phone_realEstate  \\\n",
       "11561                              unna madrid       912780846.0   \n",
       "10412  bafre gestion y servicios inmobiliarios       910752245.0   \n",
       "2881                   unna grupo inmobiliario       912665694.0   \n",
       "5585                 100 home red inmobiliaria       912669623.0   \n",
       "\n",
       "                                            url_inmueble  rooms  bathrooms  \\\n",
       "11561  https://www.fotocasa.es/es/comprar/vivienda/va...    4.0        3.0   \n",
       "10412  https://www.fotocasa.es/es/comprar/vivienda/co...    6.0        5.0   \n",
       "2881   https://www.fotocasa.es/es/comprar/vivienda/ma...    6.0        4.0   \n",
       "5585   https://www.fotocasa.es/es/comprar/vivienda/ca...    6.0        6.0   \n",
       "\n",
       "       surface    price  ...              level3                level4  \\\n",
       "11561    274.0   490000  ...  Zona Sur de Madrid  Fuenlabrada, Zona de   \n",
       "10412    360.0   650000  ...  Zona Sur de Madrid      Leganés, Zona de   \n",
       "2881     600.0  1050000  ...  Zona Sur de Madrid       Getafe, Zona de   \n",
       "5585     722.0   950000  ...       Zona Suroeste     Alcorcón, Zona de   \n",
       "\n",
       "            level5 level6                                 level7 level8  \\\n",
       "11561  Fuenlabrada      0  Universidad - Hospital en Fuenlabrada      0   \n",
       "10412      Leganés      0                          Leganés Norte      0   \n",
       "2881        Getafe      0                             San Isidro      0   \n",
       "5585      Alcorcón      0           Campodón - Ventorro del Cano      0   \n",
       "\n",
       "                                  upperLevel accuracy          latitude  \\\n",
       "11561  Universidad - Hospital en Fuenlabrada        1          40,28286   \n",
       "10412                          Leganés Norte        0  40,3423636291504   \n",
       "2881                              San Isidro        0   40,302820239187   \n",
       "5585            Campodón - Ventorro del Cano        0        40,3535169   \n",
       "\n",
       "               longitude  \n",
       "11561           -3,81475  \n",
       "10412  -3,74814414978027  \n",
       "2881    -3,7281704612835  \n",
       "5585          -3,8664683  \n",
       "\n",
       "[4 rows x 26 columns]"
      ]
     },
     "execution_count": 21,
     "metadata": {},
     "output_type": "execute_result"
    }
   ],
   "source": [
    "def get_max(df, col):\n",
    "    index_values = []\n",
    "    \n",
    "    for n in pop:\n",
    "        df_aux = df[df['level5'] == n]\n",
    "        index_values.append(df_aux[col].idxmax())\n",
    "    return index_values\n",
    "\n",
    "max_price_index = get_max(ds_southbelt, 'price')\n",
    "\n",
    "ds_southbelt.loc[max_price_index]"
   ]
  },
  {
   "attachments": {},
   "cell_type": "markdown",
   "id": "activated-knight",
   "metadata": {},
   "source": [
    "#### Exercise 18. Normalize the variable of prices for each population and plot the 4 histograms in the same plot (you must use the subset obtained in the question 14) (★★★)\n",
    "\n",
    "For the normalization method you can use the one you consider to, there is not a single correct answer to this question. Print the plot and write in the Markdown cell a brief analysis about the plot\n",
    "\n",
    "Hint: You can help yourself reviewing the multihist demo of Matplotlib"
   ]
  },
  {
   "cell_type": "code",
   "execution_count": 22,
   "id": "civic-meditation",
   "metadata": {},
   "outputs": [
    {
     "data": {
      "image/png": "[encoded data removed]",
      "text/plain": [
       "<Figure size 1000x1600 with 4 Axes>"
      ]
     },
     "metadata": {},
     "output_type": "display_data"
    }
   ],
   "source": [
    "def normalize(df):\n",
    "    return (df - df.min()) / (df.max() - df.min())\n",
    "ds_southbelt_copy = ds_southbelt.copy()\n",
    "ds_southbelt_copy['normalized_prices'] = ds_southbelt_copy.groupby('level5')['price'].transform(normalize)\n",
    "\n",
    "populations = ds_southbelt_copy['level5'].unique()\n",
    "num_populations = len(populations)\n",
    "\n",
    "\n",
    "#plt.figure(figsize=(10, 5))\n",
    "\n",
    "#for population in populations:\n",
    "#    subset = ds_southbelt_copy[ds_southbelt_copy['level5'] == population]\n",
    "#    plt.hist(subset['normalized_prices'], bins=40, alpha=1, label=f'Population {n}')\n",
    "\n",
    "\n",
    "#plt.legend()\n",
    "#plt.xlabel('Normalized Prices')\n",
    "#plt.ylabel('Frequency')\n",
    "#plt.title('Normalized Prices for Each Population')\n",
    "#plt.show()\n",
    "\n",
    "fig, axs = plt.subplots(num_populations, 1, figsize=(10, 4 * num_populations), sharex=True)\n",
    "\n",
    "for i, population in enumerate(populations):\n",
    "    subset = ds_southbelt_copy[ds_southbelt_copy['level5'] == population]\n",
    "    axs[i].hist(subset['normalized_prices'], bins=30, alpha=0.75, color=np.random.rand(3,))\n",
    "    axs[i].set_title(f'Population {population}')\n",
    "    axs[i].set_xlabel('Normalized Prices')\n",
    "    axs[i].set_ylabel('Frequency')\n"
   ]
  },
  {
   "attachments": {},
   "cell_type": "markdown",
   "id": "precise-heavy",
   "metadata": {},
   "source": [
    "**TODO: Markdown**. To write here, double click to this cell and just remove this content and place the text you want to write. Then, execute the cell."
   ]
  },
  {
   "attachments": {},
   "cell_type": "markdown",
   "id": "patent-jonathan",
   "metadata": {},
   "source": [
    "#### Exercise 19. What can you say about the price per square meter (price/m2) between the towns of \"Getafe\" and \"Alcorcón\"? You must use the subset obtained in the question 14 (★★☆)\n",
    "\n",
    "Hint: Create a new column called `pps` (price per square) and then analyse the values"
   ]
  },
  {
   "cell_type": "code",
   "execution_count": 23,
   "id": "initial-liverpool",
   "metadata": {},
   "outputs": [
    {
     "data": {
      "image/png": "[encoded data removed]",
      "text/plain": [
       "<Figure size 1000x500 with 1 Axes>"
      ]
     },
     "metadata": {},
     "output_type": "display_data"
    },
    {
     "name": "stdout",
     "output_type": "stream",
     "text": [
      "Getafe pps average: 2066.31 with 290 different houses\n",
      "Alcorcón pps average: 2239.3 with 190 different houses\n"
     ]
    }
   ],
   "source": [
    "# TODO\n",
    "\n",
    "ds_southbelt_copy['pps'] = ds_southbelt_copy['price'].div(ds_southbelt_copy['surface'].replace(0, np.nan))\n",
    "column_check = 'level5'\n",
    "population_check_get = \"Getafe\"\n",
    "population_check_alc = \"Alcorcón\"\n",
    "ds_getafe = ds_southbelt_copy[ds_southbelt[column_check] == population_check_get]\n",
    "ds_alcorcon = ds_southbelt_copy[ds_southbelt_copy[column_check] == population_check_alc]\n",
    "\n",
    "plt.figure(figsize = (10, 5))\n",
    "\n",
    "plt.scatter(ds_getafe['price'], ds_getafe['surface'], label = \"Getafe\")\n",
    "plt.scatter(ds_alcorcon['price'], ds_alcorcon['surface'], label = \"Alcorcón\")\n",
    "\n",
    "plt.title(\"Scatter plot\")\n",
    "plt.xlabel(\"Price\")\n",
    "plt.ylabel(\"Surface (m2)\")\n",
    "plt.legend()\n",
    "plt.show()\n",
    "\n",
    "print(f\"Getafe pps average: {round(ds_getafe['pps'].mean(),2)} with {len(ds_getafe['price'])} different houses\")\n",
    "print(f\"Alcorcón pps average: {round(ds_alcorcon['pps'].mean(), 2)} with {len(ds_alcorcon['price'])} different houses\")\n"
   ]
  },
  {
   "attachments": {},
   "cell_type": "markdown",
   "id": "enhanced-moscow",
   "metadata": {},
   "source": [
    "#### Exercise 20. Make the same plot for 4 different populations (level5 column) and rearrange them on the same graph? You must use the subset obtained in the question 14 (★★☆) \n",
    "Hint: make a scatter plot of each population using subplots."
   ]
  },
  {
   "cell_type": "code",
   "execution_count": 55,
   "id": "accepting-airfare",
   "metadata": {},
   "outputs": [
    {
     "data": {
      "text/plain": [
       "<function matplotlib.pyplot.show(close=None, block=None)>"
      ]
     },
     "execution_count": 55,
     "metadata": {},
     "output_type": "execute_result"
    },
    {
     "data": {
      "image/png": "[encoded data removed]",
      "text/plain": [
       "<Figure size 600x1200 with 4 Axes>"
      ]
     },
     "metadata": {},
     "output_type": "display_data"
    }
   ],
   "source": [
    "import pandas as pd\n",
    "import numpy as np\n",
    "import matplotlib.pyplot as plt\n",
    "\n",
    "populations = ds_southbelt_copy['level5'].unique()\n",
    "num_populations = len(populations)\n",
    "\n",
    "fig, axes = plt.subplots(num_populations, 1, figsize=(6, 3 * num_populations), sharex=True, sharey=True)\n",
    "\n",
    "\n",
    "for i, population in enumerate(populations):\n",
    "    subset = ds_southbelt_copy[ds_southbelt_copy['level5'] == population]\n",
    "    ax = axes[i] if num_populations > 1 else axes\n",
    "    ax.scatter(subset['price'], subset['surface'], alpha = 0.5, label = population, color=np.random.rand(3,))\n",
    "    ax.set_title(f'{population}')\n",
    "    ax.set_xlabel('Price')\n",
    "    ax.set_ylabel('Surface(m2)')\n",
    "    ax.legend()\n",
    "\n",
    "plt.tight_layout()\n",
    "plt.show"
   ]
  },
  {
   "attachments": {},
   "cell_type": "markdown",
   "id": "blocked-effects",
   "metadata": {},
   "source": [
    "#### Exercise 21. Make a plot of the coordinates (latitude and longitude columns) of the south belt of Madrid by color of each population (you must use the subset obtained in the question 14) (★★★★)\n",
    "\n",
    "Execute the following cell and then start coding in the next one. You must implement a simple code that transform the coordinates columns in a Python dictionary (add more information if needed) and then add it to the map"
   ]
  },
  {
   "cell_type": "code",
   "execution_count": 58,
   "id": "headed-privacy",
   "metadata": {},
   "outputs": [
    {
     "data": {
      "application/vnd.jupyter.widget-view+json": {
       "model_id": "c6f87591ae5c4dd5b252e57dc9d1b8c8",
       "version_major": 2,
       "version_minor": 0
      },
      "text/plain": [
       "Map(center=[60, -2.2], controls=(ZoomControl(options=['position', 'zoom_in_text', 'zoom_in_title', 'zoom_out_t…"
      ]
     },
     "execution_count": 58,
     "metadata": {},
     "output_type": "execute_result"
    }
   ],
   "source": [
    "from ipyleaflet import Map, basemaps\n",
    "\n",
    "# Map centred on (60 degrees latitude et -2.2 degrees longitude)\n",
    "# Latitude, longitude\n",
    "map = Map(center = (60, -2.2), zoom = 2, min_zoom = 1, max_zoom = 20, \n",
    "    basemap=basemaps.Esri.WorldTopoMap)\n",
    "map\n"
   ]
  },
  {
   "cell_type": "code",
   "execution_count": null,
   "id": "b77b78ca",
   "metadata": {},
   "outputs": [],
   "source": [
    "## HERE: plot the coordinates of the estates\n",
    "print(type(ds_southbelt['latitude'][1]))\n",
    "\n",
    "# Convert data from str to float, first replacing all ',' with '.'\n",
    "ds_southbelt_copy['latitude'] = ds_southbelt_copy['latitude'].str.replace(',','.')\n",
    "ds_southbelt_copy['longitude'] = ds_southbelt_copy['longitude'].str.replace(',','.')\n",
    "\n",
    "ds_southbelt_copy['latitude'] = ds_southbelt_copy['latitude'].astype(float)\n",
    "ds_southbelt_copy['longitude'] = ds_southbelt_copy['longitude'].astype(float)"
   ]
  },
  {
   "cell_type": "code",
   "execution_count": 60,
   "id": "present-mistress",
   "metadata": {},
   "outputs": [
    {
     "name": "stdout",
     "output_type": "stream",
     "text": [
      "<class 'float'>\n",
      "<class 'float'>\n"
     ]
    },
    {
     "ename": "TypeError",
     "evalue": "list indices must be integers or slices, not str",
     "output_type": "error",
     "traceback": [
      "\u001b[0;31m---------------------------------------------------------------------------\u001b[0m",
      "\u001b[0;31mTypeError\u001b[0m                                 Traceback (most recent call last)",
      "Cell \u001b[0;32mIn[60], line 11\u001b[0m\n\u001b[1;32m      8\u001b[0m \u001b[39mprint\u001b[39m(\u001b[39mtype\u001b[39m(coords[\u001b[39m'\u001b[39m\u001b[39mlongitude\u001b[39m\u001b[39m'\u001b[39m][\u001b[39m0\u001b[39m]))\n\u001b[1;32m     10\u001b[0m \u001b[39mfor\u001b[39;00m coord \u001b[39min\u001b[39;00m coords\u001b[39m.\u001b[39mvalues():\n\u001b[0;32m---> 11\u001b[0m     latitude\u001b[39m+\u001b[39m\u001b[39m=\u001b[39mcoord[\u001b[39m'\u001b[39;49m\u001b[39mlatitude\u001b[39;49m\u001b[39m'\u001b[39;49m]\n\u001b[1;32m     12\u001b[0m     longitude\u001b[39m+\u001b[39m\u001b[39m=\u001b[39mcoord[\u001b[39m'\u001b[39m\u001b[39mlongitude\u001b[39m\u001b[39m'\u001b[39m]\n\u001b[1;32m     14\u001b[0m mean_longitude \u001b[39m=\u001b[39m longitude \u001b[39m/\u001b[39m count\n",
      "\u001b[0;31mTypeError\u001b[0m: list indices must be integers or slices, not str"
     ]
    }
   ],
   "source": [
    "# Export latitude, longitude and population to dictionary\n",
    "coords = ds_southbelt_copy[['latitude', 'longitude', 'level5']].to_dict(orient='list')\n",
    "latitude = 0\n",
    "longitude = 0\n",
    "count = len(coords)\n",
    "\n",
    "print(type(coords['latitude'][0]))\n",
    "print(type(coords['longitude'][0]))\n",
    "\n",
    "for coord in coords.values():\n",
    "    latitude+=coord['latitude']\n",
    "    longitude+=coord['longitude']\n",
    "\n",
    "mean_longitude = longitude / count\n",
    "mean_latitude = latitude / count\n",
    "\n",
    "print(f\"Mean Latitude: {mean_latitude}\")\n",
    "print(f\"Mean Longitude: {mean_longitude}\")"
   ]
  },
  {
   "cell_type": "code",
   "execution_count": null,
   "id": "1f47ada9",
   "metadata": {},
   "outputs": [],
   "source": []
  }
 ],
 "metadata": {
  "kernelspec": {
   "display_name": "Python 3",
   "language": "python",
   "name": "python3"
  },
  "language_info": {
   "codemirror_mode": {
    "name": "ipython",
    "version": 3
   },
   "file_extension": ".py",
   "mimetype": "text/x-python",
   "name": "python",
   "nbconvert_exporter": "python",
   "pygments_lexer": "ipython3",
   "version": "3.12.3"
  },
  "vscode": {
   "interpreter": {
    "hash": "9ac03a0a6051494cc606d484d27d20fce22fb7b4d169f583271e11d5ba46a56e"
   }
  }
 },
 "nbformat": 4,
 "nbformat_minor": 5
}
